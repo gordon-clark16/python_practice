{
  "nbformat": 4,
  "nbformat_minor": 0,
  "metadata": {
    "colab": {
      "name": "Basic_Functions1.ipynb",
      "provenance": [],
      "collapsed_sections": [],
      "authorship_tag": "ABX9TyOH1QImz6qhLGscd9d84OJA"
    },
    "kernelspec": {
      "name": "python3",
      "display_name": "Python 3"
    },
    "language_info": {
      "name": "python"
    }
  },
  "cells": [
    {
      "cell_type": "code",
      "metadata": {
        "id": "dEiUYdWwPsK5",
        "colab": {
          "base_uri": "https://localhost:8080/"
        },
        "outputId": "61bfa363-3eaa-446b-fa78-c66c6c54f62a"
      },
      "source": [
        "def a():\n",
        "  return 5\n",
        "print(a())"
      ],
      "execution_count": null,
      "outputs": [
        {
          "output_type": "stream",
          "name": "stdout",
          "text": [
            "5\n"
          ]
        }
      ]
    },
    {
      "cell_type": "code",
      "metadata": {
        "id": "dMC5YhjHQal1",
        "colab": {
          "base_uri": "https://localhost:8080/"
        },
        "outputId": "a0f6f847-9fd2-4f3e-8b8f-4386d2d86a32"
      },
      "source": [
        "def a():\n",
        "  return 5\n",
        "print(a()+a())"
      ],
      "execution_count": null,
      "outputs": [
        {
          "output_type": "stream",
          "name": "stdout",
          "text": [
            "10\n"
          ]
        }
      ]
    },
    {
      "cell_type": "code",
      "metadata": {
        "id": "LhHqItvfQuyZ",
        "colab": {
          "base_uri": "https://localhost:8080/"
        },
        "outputId": "b93f058c-2f02-42a7-de75-886de52daab6"
      },
      "source": [
        "def a():\n",
        "  return 5\n",
        "  return 10\n",
        "print(a())"
      ],
      "execution_count": null,
      "outputs": [
        {
          "output_type": "stream",
          "name": "stdout",
          "text": [
            "5\n"
          ]
        }
      ]
    },
    {
      "cell_type": "code",
      "metadata": {
        "id": "VjDyjY73RApD",
        "colab": {
          "base_uri": "https://localhost:8080/"
        },
        "outputId": "5da9b707-a4fa-4f74-f2a8-6d5198b5de58"
      },
      "source": [
        "def a():\n",
        "  return 5\n",
        "  print(10)\n",
        "print(a())"
      ],
      "execution_count": null,
      "outputs": [
        {
          "output_type": "stream",
          "name": "stdout",
          "text": [
            "5\n"
          ]
        }
      ]
    },
    {
      "cell_type": "code",
      "metadata": {
        "id": "U7s8xAjGRZ1Q",
        "colab": {
          "base_uri": "https://localhost:8080/"
        },
        "outputId": "f363c489-0eab-4a08-fe7a-45ae861888ac"
      },
      "source": [
        "def a():\n",
        "  print(5)\n",
        "x = a()\n",
        "print(x)"
      ],
      "execution_count": null,
      "outputs": [
        {
          "output_type": "stream",
          "name": "stdout",
          "text": [
            "5\n",
            "None\n"
          ]
        }
      ]
    },
    {
      "cell_type": "code",
      "metadata": {
        "id": "JXJQ7XbaR8yp",
        "colab": {
          "base_uri": "https://localhost:8080/"
        },
        "outputId": "0b94451e-79b0-4fbc-b862-a0f70296e57a"
      },
      "source": [
        "def a(b,c):\n",
        "  return str(b)+str(c)\n",
        "print(a(2,5))"
      ],
      "execution_count": null,
      "outputs": [
        {
          "output_type": "stream",
          "name": "stdout",
          "text": [
            "25\n"
          ]
        }
      ]
    },
    {
      "cell_type": "code",
      "metadata": {
        "id": "Z-L3nr5FSTRt",
        "colab": {
          "base_uri": "https://localhost:8080/"
        },
        "outputId": "557c5ccd-0d4d-4ab3-f5bc-9656db20a118"
      },
      "source": [
        "def a():\n",
        "  b = 100\n",
        "  print(b)\n",
        "  if b < 10:\n",
        "    return 5\n",
        "  else:\n",
        "    return 10\n",
        "  return 7\n",
        "print(a())"
      ],
      "execution_count": null,
      "outputs": [
        {
          "output_type": "stream",
          "name": "stdout",
          "text": [
            "100\n",
            "10\n"
          ]
        }
      ]
    },
    {
      "cell_type": "code",
      "metadata": {
        "id": "jMHESLjPSwg3",
        "colab": {
          "base_uri": "https://localhost:8080/"
        },
        "outputId": "0238419b-f82c-440d-97d9-0ffbe8d089e4"
      },
      "source": [
        "def a(b,c):\n",
        "  if b<c:\n",
        "    return 7\n",
        "  else:\n",
        "    return 14\n",
        "  return 3\n",
        "print(a(2,3))\n",
        "print(a(5,3))\n",
        "print(a(2,3) + a(5,3))"
      ],
      "execution_count": null,
      "outputs": [
        {
          "output_type": "stream",
          "name": "stdout",
          "text": [
            "7\n",
            "14\n",
            "21\n"
          ]
        }
      ]
    },
    {
      "cell_type": "code",
      "metadata": {
        "id": "y9O2VTNLTHfQ",
        "colab": {
          "base_uri": "https://localhost:8080/"
        },
        "outputId": "e9daa289-e521-4ffa-a683-6f5d69dd2f6f"
      },
      "source": [
        "def a(b,c):\n",
        "  return b+c\n",
        "  return 10\n",
        "print(a(3,5))"
      ],
      "execution_count": null,
      "outputs": [
        {
          "output_type": "stream",
          "name": "stdout",
          "text": [
            "8\n"
          ]
        }
      ]
    },
    {
      "cell_type": "code",
      "metadata": {
        "id": "tVVBUlEATTfc",
        "colab": {
          "base_uri": "https://localhost:8080/"
        },
        "outputId": "f4f12583-6dae-464f-c3d4-0a91b0f433f5"
      },
      "source": [
        "b = 500\n",
        "print(b)\n",
        "def a():\n",
        "  b = 300\n",
        "  print(b)\n",
        "print(b)\n",
        "a()\n",
        "print(b)"
      ],
      "execution_count": null,
      "outputs": [
        {
          "output_type": "stream",
          "name": "stdout",
          "text": [
            "500\n",
            "500\n",
            "300\n",
            "500\n"
          ]
        }
      ]
    },
    {
      "cell_type": "code",
      "metadata": {
        "id": "lxkToKFXTkiO",
        "colab": {
          "base_uri": "https://localhost:8080/"
        },
        "outputId": "28721a69-da7a-4f41-ea26-4b403981d97d"
      },
      "source": [
        "b = 500\n",
        "print(b)\n",
        "def a():\n",
        "  b = 300\n",
        "  print(b)\n",
        "  return b\n",
        "print(b)\n",
        "a()\n",
        "print(b)"
      ],
      "execution_count": null,
      "outputs": [
        {
          "output_type": "stream",
          "name": "stdout",
          "text": [
            "500\n",
            "500\n",
            "300\n",
            "500\n"
          ]
        }
      ]
    },
    {
      "cell_type": "code",
      "metadata": {
        "id": "afmLggCqTzjr",
        "colab": {
          "base_uri": "https://localhost:8080/"
        },
        "outputId": "32146e14-8998-4792-ae72-9e66c5ab526c"
      },
      "source": [
        "b=500\n",
        "print(b)\n",
        "def a():\n",
        "  b = 300\n",
        "  print(b)\n",
        "  return b\n",
        "print(b)\n",
        "b=a()\n",
        "print(b)"
      ],
      "execution_count": null,
      "outputs": [
        {
          "output_type": "stream",
          "name": "stdout",
          "text": [
            "500\n",
            "500\n",
            "300\n",
            "300\n"
          ]
        }
      ]
    },
    {
      "cell_type": "code",
      "metadata": {
        "id": "0fDPKC7DUFh8",
        "colab": {
          "base_uri": "https://localhost:8080/"
        },
        "outputId": "69d76e29-eb17-4402-f6fb-eb71605b4b1d"
      },
      "source": [
        "def a():\n",
        "  print(1)\n",
        "  b()\n",
        "  print(2)\n",
        "def b():\n",
        "  print(3)\n",
        "a()"
      ],
      "execution_count": null,
      "outputs": [
        {
          "output_type": "stream",
          "name": "stdout",
          "text": [
            "1\n",
            "3\n",
            "2\n"
          ]
        }
      ]
    },
    {
      "cell_type": "code",
      "metadata": {
        "id": "9dUHV6KyUPta",
        "colab": {
          "base_uri": "https://localhost:8080/"
        },
        "outputId": "b764cc99-bb60-494b-9f48-385332b784e2"
      },
      "source": [
        "def a():\n",
        "  print(1)\n",
        "  x = b()\n",
        "  print(x)\n",
        "  return 10\n",
        "def b():\n",
        "  print(3)\n",
        "  return 5\n",
        "y = a()\n",
        "print(y)"
      ],
      "execution_count": null,
      "outputs": [
        {
          "output_type": "stream",
          "name": "stdout",
          "text": [
            "1\n",
            "3\n",
            "5\n",
            "10\n"
          ]
        }
      ]
    }
  ]
}